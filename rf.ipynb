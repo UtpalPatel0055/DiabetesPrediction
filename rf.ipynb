{
 "cells": [
  {
   "cell_type": "code",
   "execution_count": null,
   "metadata": {},
   "outputs": [],
   "source": [
    "RF_model = RandomForestClassifier()\n",
    "\n",
    "param_dist={'bootstrap': [True, False],\n",
    "            'max_depth': [10, 20, 50, 100, None],\n",
    "            'max_features': ['auto', 'sqrt'],\n",
    "            'min_samples_leaf': [1, 2, 4],\n",
    "            'min_samples_split': [2, 5, 10],\n",
    "            'n_estimators': [50, 100]}\n",
    "\n",
    "cv = RepeatedStratifiedKFold(n_splits=10, n_repeats=3, random_state=1)\n",
    "\n",
    "RCV = RandomizedSearchCV(RF_model, param_dist, n_iter=50, n_jobs=-1, cv=5, random_state=1)\n",
    "\n",
    "RF = RCV.fit(Train_X_std, Train_Y).best_estimator_\n",
    "pred = RF.predict(Test_X_std)\n",
    "pred_prob = RF.predict_proba(Test_X_std)\n",
    "Classification_Summary(pred,pred_prob,3)"
   ]
  }
 ],
 "metadata": {
  "language_info": {
   "name": "python"
  },
  "orig_nbformat": 4
 },
 "nbformat": 4,
 "nbformat_minor": 2
}
